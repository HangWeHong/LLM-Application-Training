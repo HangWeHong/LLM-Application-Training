{
 "cells": [
  {
   "cell_type": "markdown",
   "metadata": {},
   "source": [
    "# **LangChain Beginner**\n"
   ]
  },
  {
   "cell_type": "code",
   "execution_count": 7,
   "metadata": {},
   "outputs": [
    {
     "name": "stdout",
     "output_type": "stream",
     "text": [
      "Prompt 1 **Wrong**\n",
      "\n",
      "The issue with this sentence is that it starts with \"Hello\" as a standalone word without a verb or subject to connect it to the rest of the sentence. In English, we typically use complete sentences after greetings like \"hello\". \n",
      "\n",
      "A corrected version could be:\n",
      "\"Hello! You are beautiful.\"\n",
      "\n",
      "Or if you want to emphasize being beautiful in response to the greeting:\n",
      "\"You look beautiful today!\"\n",
      "\n",
      "However, if you meant to say that someone (implied or directly mentioned) is inherently beautiful without needing a context of time or appearance, it could simply be:\n",
      "\n",
      "\"You are beautiful.\"\n"
     ]
    }
   ],
   "source": [
    "from langchain.chat_models import ChatOpenAI\n",
    "from langchain_community.llms import Ollama\n",
    "from langchain.prompts.chat import ChatPromptTemplate\n",
    "from langchain.prompts.chat import HumanMessagePromptTemplate\n",
    "from langchain.prompts.chat import SystemMessagePromptTemplate\n",
    "from langchain.chains import LLMChain\n",
    "\n",
    "template= \"You are an English Teacher, the user will input a sentence. Output correct if it is grammatically correct else output wrong ,tells why and generate the correct sentence\"\n",
    "\n",
    "system_message_template=SystemMessagePromptTemplate.from_template(template)\n",
    "human_template=\"{text}\"\n",
    "human_message_template=HumanMessagePromptTemplate.from_template(human_template)\n",
    "chat_prompt=ChatPromptTemplate.from_messages([system_message_template,human_message_template])\n",
    "# chain=LLMChain(\n",
    "#     llm=ChatOpenAI(openai_api_key=\"xxx\"),\n",
    "#     prompt=chat_prompt\n",
    "# )\n",
    "ollama = Ollama(\n",
    "    model=\"llama3.1\"\n",
    ")\n",
    "chain=LLMChain(\n",
    "    llm=ollama,\n",
    "    prompt=chat_prompt\n",
    ")\n",
    "print(\"Prompt 1\",chain.run(\"Hello,are beautiful you\"))\n",
    "\n"
   ]
  },
  {
   "cell_type": "code",
   "execution_count": 8,
   "metadata": {},
   "outputs": [
    {
     "name": "stdout",
     "output_type": "stream",
     "text": [
      "Prompt 1 WRONG.\n",
      "\n",
      "Why? Because the sentence has several grammatical errors:\n",
      "\n",
      "* The word order is incorrect. A more natural and clear way to express the sentiment would be \"You are beautiful.\"\n",
      "* \"Are\" should not start the sentence.\n",
      "* There's no verb conjugation for the subject \"you\".\n",
      "* The sentence structure is inverted, which can make it harder to understand.\n",
      "\n",
      "Correct sentence: You are beautiful.\n"
     ]
    }
   ],
   "source": [
    "\n",
    "template= \"You are an English Teacher, the user will input a sentence. Output correct if it is grammatically correct else output wrong ,tells why and generate the correct sentence in a specific {tone}\"\n",
    "\n",
    "system_message_template=SystemMessagePromptTemplate.from_template(template)\n",
    "human_template=\"{text}\"\n",
    "human_message_template=HumanMessagePromptTemplate.from_template(human_template)\n",
    "chat_prompt=ChatPromptTemplate.from_messages([system_message_template,human_message_template])\n",
    "# chain=LLMChain(\n",
    "#     llm=ChatOpenAI(openai_api_key=\"xxx\"),\n",
    "#     prompt=chat_prompt\n",
    "# )\n",
    "ollama = Ollama(\n",
    "    model=\"llama3.1\"\n",
    ")\n",
    "chain=LLMChain(\n",
    "    llm=ollama,\n",
    "    prompt=chat_prompt\n",
    ")\n",
    "print(\"Prompt 1\",chain.run({'text':'Hello,are beautiful you','tone':'Angry'}))\n",
    "\n"
   ]
  },
  {
   "cell_type": "code",
   "execution_count": 10,
   "metadata": {},
   "outputs": [
    {
     "name": "stdout",
     "output_type": "stream",
     "text": [
      "你好 (nǐ hǎo) \n",
      "\n",
      "(Translation: Hello in Chinese)\n",
      "\n",
      "こんにちは (konnichiwa)\n",
      "\n",
      "(Translation: Hello in Japanese)\n"
     ]
    }
   ],
   "source": [
    "from langchain.schema import BaseOutputParser\n",
    "class CommaSepartor(BaseOutputParser):\n",
    "    \"\"\"parse the output of an LLM call to a comma-separated list\"\"\"\n",
    "    def parse(self,text:str):\n",
    "        \"\"\"parse the output of an LLM call\"\"\"\n",
    "        return text.strip().split(\", \")\n",
    "template= \"You are an helpful assistant that translates input text to {output_language}\"\n",
    "\n",
    "system_message_template=SystemMessagePromptTemplate.from_template(template)\n",
    "human_template=\"{text}\"\n",
    "human_message_template=HumanMessagePromptTemplate.from_template(human_template)\n",
    "chat_prompt=ChatPromptTemplate.from_messages([system_message_template,human_message_template])\n",
    "# chain=LLMChain(\n",
    "#     llm=ChatOpenAI(openai_api_key=\"xxx\"),\n",
    "#     prompt=chat_prompt\n",
    "# )\n",
    "ollama = Ollama(\n",
    "    model=\"llama3.1\"\n",
    ")\n",
    "chain=LLMChain(\n",
    "    llm=ollama,\n",
    "    prompt=chat_prompt\n",
    ")\n",
    "print(chain.run({'text':'Hello','output_language':'Chinese,Japanese'}))\n",
    "\n"
   ]
  },
  {
   "cell_type": "markdown",
   "metadata": {},
   "source": [
    "## **Summarization**"
   ]
  }
 ],
 "metadata": {
  "kernelspec": {
   "display_name": "Python 3",
   "language": "python",
   "name": "python3"
  },
  "language_info": {
   "codemirror_mode": {
    "name": "ipython",
    "version": 3
   },
   "file_extension": ".py",
   "mimetype": "text/x-python",
   "name": "python",
   "nbconvert_exporter": "python",
   "pygments_lexer": "ipython3",
   "version": "3.12.5"
  }
 },
 "nbformat": 4,
 "nbformat_minor": 2
}
